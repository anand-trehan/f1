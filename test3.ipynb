{
 "cells": [
  {
   "cell_type": "code",
   "execution_count": 1,
   "metadata": {},
   "outputs": [],
   "source": [
    "import pandas as pd\n",
    "import numpy as np\n",
    "import selenium\n",
    "from selenium import webdriver\n",
    "import requests\n",
    "import bs4\n",
    "from bs4 import BeautifulSoup\n",
    "import time"
   ]
  },
  {
   "cell_type": "code",
   "execution_count": 2,
   "metadata": {},
   "outputs": [
    {
     "name": "stdout",
     "output_type": "stream",
     "text": [
      "(0, 0)\n"
     ]
    }
   ],
   "source": [
    "qualifying_results = pd.DataFrame()\n",
    "for year in list(range(1983,2020)):\n",
    "    url = 'https://www.formula1.com/en/results.html/{}/races.html'\n",
    "    r = requests.get(url.format(year))\n",
    "    soup = BeautifulSoup(r.text, 'html.parser')\n",
    "    \n",
    "    year_links = []\n",
    "    for page in soup.find_all('a', attrs = {'class':\"resultsarchive-filter-item-link FilterTrigger\"}):\n",
    "        link = page.get('href')\n",
    "        if f'/en/results.html/{year}/races/' in link: \n",
    "            year_links.append(link)\n",
    "\n",
    "    year_df = pd.DataFrame()\n",
    "    new_url = 'https://www.formula1.com{}'\n",
    "    for n, link in list(enumerate(year_links)):\n",
    "        link = link.replace('race-result.html', 'starting-grid.html')\n",
    "        df = pd.read_html(new_url.format(link))\n",
    "        df = df[0]\n",
    "        df['season'] = year\n",
    "        df['round'] = n+1\n",
    "        for col in df:\n",
    "            if 'Unnamed' in col:\n",
    "                df.drop(col, axis = 1, inplace = True)\n",
    "\n",
    "        year_df = pd.concat([year_df, df])\n",
    "\n",
    "    qualifying_results = pd.concat([qualifying_results, year_df])\n",
    "    \n",
    "print(qualifying_results.shape)"
   ]
  },
  {
   "cell_type": "code",
   "execution_count": null,
   "metadata": {},
   "outputs": [],
   "source": []
  }
 ],
 "metadata": {
  "kernelspec": {
   "display_name": "Python 3",
   "language": "python",
   "name": "python3"
  },
  "language_info": {
   "codemirror_mode": {
    "name": "ipython",
    "version": 3
   },
   "file_extension": ".py",
   "mimetype": "text/x-python",
   "name": "python",
   "nbconvert_exporter": "python",
   "pygments_lexer": "ipython3",
   "version": "3.7.1"
  }
 },
 "nbformat": 4,
 "nbformat_minor": 2
}
